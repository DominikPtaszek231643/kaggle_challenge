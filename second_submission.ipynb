{
 "cells": [
  {
   "cell_type": "code",
   "execution_count": 160,
   "id": "initial_id",
   "metadata": {
    "collapsed": true,
    "ExecuteTime": {
     "end_time": "2024-04-15T12:33:20.977371Z",
     "start_time": "2024-04-15T12:33:20.972731Z"
    }
   },
   "outputs": [],
   "source": [
    "import pandas as pd\n",
    "import numpy as np\n",
    "import matplotlib.pyplot as plt\n",
    "import seaborn as sns\n",
    "from sklearn.experimental import enable_iterative_imputer\n",
    "from sklearn.impute import IterativeImputer\n",
    "from sklearn import linear_model\n",
    "from sklearn.preprocessing import OneHotEncoder\n",
    "\n",
    "from sklearn.ensemble import RandomForestClassifier\n",
    "\n",
    "\n",
    "from sklearn.model_selection import train_test_split\n",
    "\n",
    "from sklearn.metrics import accuracy_score\n"
   ]
  },
  {
   "cell_type": "code",
   "outputs": [],
   "source": [
    "def hot_encode_columns(original_df, columns):\n",
    "    original_df = original_df.copy()\n",
    "    \n",
    "    print([*columns])\n",
    "    encoded_df = pd.get_dummies(original_df.loc[:, columns])\n",
    "\n",
    "    original_df = original_df.drop([*columns] , axis = 1) \n",
    "    return pd.concat([original_df,encoded_df], axis=1)\n",
    "    "
   ],
   "metadata": {
    "collapsed": false,
    "ExecuteTime": {
     "end_time": "2024-04-15T12:33:20.996038Z",
     "start_time": "2024-04-15T12:33:20.992441Z"
    }
   },
   "id": "df9b21051af9cc25",
   "execution_count": 161
  },
  {
   "cell_type": "code",
   "outputs": [],
   "source": [
    "## SHow missing values\n",
    "\n",
    "def show_missing_values(df: pd.DataFrame):\n",
    "    \n",
    "\n",
    "    fig, ax = plt.subplots(figsize=(20, 6))\n",
    "    \n",
    "    \n",
    "    sns.heatmap(df.isnull(), cbar=False, ax=ax)\n",
    "    \n",
    "    \n",
    "    plt.show()"
   ],
   "metadata": {
    "collapsed": false,
    "ExecuteTime": {
     "end_time": "2024-04-15T12:33:21.047323Z",
     "start_time": "2024-04-15T12:33:21.042712Z"
    }
   },
   "id": "589eef9184a2003d",
   "execution_count": 162
  },
  {
   "cell_type": "code",
   "outputs": [],
   "source": [
    "train_df = pd.read_csv('./data/train.csv')\n",
    "\n",
    "test_df = pd.read_csv('./data/test.csv')\n",
    "\n"
   ],
   "metadata": {
    "collapsed": false,
    "ExecuteTime": {
     "end_time": "2024-04-15T12:33:21.078531Z",
     "start_time": "2024-04-15T12:33:21.068803Z"
    }
   },
   "id": "6e04a0042fde773e",
   "execution_count": 163
  },
  {
   "cell_type": "code",
   "outputs": [
    {
     "name": "stdout",
     "output_type": "stream",
     "text": [
      "['Sex', 'Embarked']\n",
      "['Sex', 'Embarked']\n"
     ]
    }
   ],
   "source": [
    "train_df = hot_encode_columns(train_df, ['Sex', 'Embarked'])\n",
    "\n",
    "test_df = hot_encode_columns(test_df, ['Sex', 'Embarked'])"
   ],
   "metadata": {
    "collapsed": false,
    "ExecuteTime": {
     "end_time": "2024-04-15T12:33:21.099407Z",
     "start_time": "2024-04-15T12:33:21.088693Z"
    }
   },
   "id": "3ec98262b5b4fa70",
   "execution_count": 164
  },
  {
   "cell_type": "code",
   "outputs": [
    {
     "data": {
      "text/plain": "   PassengerId  Survived  Pclass  \\\n0            1         0       3   \n1            2         1       1   \n2            3         1       3   \n3            4         1       1   \n4            5         0       3   \n\n                                                Name   Age  SibSp  Parch  \\\n0                            Braund, Mr. Owen Harris  22.0      1      0   \n1  Cumings, Mrs. John Bradley (Florence Briggs Th...  38.0      1      0   \n2                             Heikkinen, Miss. Laina  26.0      0      0   \n3       Futrelle, Mrs. Jacques Heath (Lily May Peel)  35.0      1      0   \n4                           Allen, Mr. William Henry  35.0      0      0   \n\n             Ticket     Fare Cabin  Sex_female  Sex_male  Embarked_C  \\\n0         A/5 21171   7.2500   NaN       False      True       False   \n1          PC 17599  71.2833   C85        True     False        True   \n2  STON/O2. 3101282   7.9250   NaN        True     False       False   \n3            113803  53.1000  C123        True     False       False   \n4            373450   8.0500   NaN       False      True       False   \n\n   Embarked_Q  Embarked_S  \n0       False        True  \n1       False       False  \n2       False        True  \n3       False        True  \n4       False        True  ",
      "text/html": "<div>\n<style scoped>\n    .dataframe tbody tr th:only-of-type {\n        vertical-align: middle;\n    }\n\n    .dataframe tbody tr th {\n        vertical-align: top;\n    }\n\n    .dataframe thead th {\n        text-align: right;\n    }\n</style>\n<table border=\"1\" class=\"dataframe\">\n  <thead>\n    <tr style=\"text-align: right;\">\n      <th></th>\n      <th>PassengerId</th>\n      <th>Survived</th>\n      <th>Pclass</th>\n      <th>Name</th>\n      <th>Age</th>\n      <th>SibSp</th>\n      <th>Parch</th>\n      <th>Ticket</th>\n      <th>Fare</th>\n      <th>Cabin</th>\n      <th>Sex_female</th>\n      <th>Sex_male</th>\n      <th>Embarked_C</th>\n      <th>Embarked_Q</th>\n      <th>Embarked_S</th>\n    </tr>\n  </thead>\n  <tbody>\n    <tr>\n      <th>0</th>\n      <td>1</td>\n      <td>0</td>\n      <td>3</td>\n      <td>Braund, Mr. Owen Harris</td>\n      <td>22.0</td>\n      <td>1</td>\n      <td>0</td>\n      <td>A/5 21171</td>\n      <td>7.2500</td>\n      <td>NaN</td>\n      <td>False</td>\n      <td>True</td>\n      <td>False</td>\n      <td>False</td>\n      <td>True</td>\n    </tr>\n    <tr>\n      <th>1</th>\n      <td>2</td>\n      <td>1</td>\n      <td>1</td>\n      <td>Cumings, Mrs. John Bradley (Florence Briggs Th...</td>\n      <td>38.0</td>\n      <td>1</td>\n      <td>0</td>\n      <td>PC 17599</td>\n      <td>71.2833</td>\n      <td>C85</td>\n      <td>True</td>\n      <td>False</td>\n      <td>True</td>\n      <td>False</td>\n      <td>False</td>\n    </tr>\n    <tr>\n      <th>2</th>\n      <td>3</td>\n      <td>1</td>\n      <td>3</td>\n      <td>Heikkinen, Miss. Laina</td>\n      <td>26.0</td>\n      <td>0</td>\n      <td>0</td>\n      <td>STON/O2. 3101282</td>\n      <td>7.9250</td>\n      <td>NaN</td>\n      <td>True</td>\n      <td>False</td>\n      <td>False</td>\n      <td>False</td>\n      <td>True</td>\n    </tr>\n    <tr>\n      <th>3</th>\n      <td>4</td>\n      <td>1</td>\n      <td>1</td>\n      <td>Futrelle, Mrs. Jacques Heath (Lily May Peel)</td>\n      <td>35.0</td>\n      <td>1</td>\n      <td>0</td>\n      <td>113803</td>\n      <td>53.1000</td>\n      <td>C123</td>\n      <td>True</td>\n      <td>False</td>\n      <td>False</td>\n      <td>False</td>\n      <td>True</td>\n    </tr>\n    <tr>\n      <th>4</th>\n      <td>5</td>\n      <td>0</td>\n      <td>3</td>\n      <td>Allen, Mr. William Henry</td>\n      <td>35.0</td>\n      <td>0</td>\n      <td>0</td>\n      <td>373450</td>\n      <td>8.0500</td>\n      <td>NaN</td>\n      <td>False</td>\n      <td>True</td>\n      <td>False</td>\n      <td>False</td>\n      <td>True</td>\n    </tr>\n  </tbody>\n</table>\n</div>"
     },
     "execution_count": 165,
     "metadata": {},
     "output_type": "execute_result"
    }
   ],
   "source": [
    "train_df.head()"
   ],
   "metadata": {
    "collapsed": false,
    "ExecuteTime": {
     "end_time": "2024-04-15T12:33:21.112187Z",
     "start_time": "2024-04-15T12:33:21.101525Z"
    }
   },
   "id": "f789f9d53960bde7",
   "execution_count": 165
  },
  {
   "cell_type": "code",
   "outputs": [],
   "source": [
    "\n",
    "train_df = train_df.drop(['Ticket', 'Cabin', 'Name', 'SibSp', 'Parch'], axis=1)\n",
    "\n",
    "\n",
    "test_df = test_df.drop(['Ticket', 'Cabin', 'Name', 'SibSp', 'Parch'], axis=1)"
   ],
   "metadata": {
    "collapsed": false,
    "ExecuteTime": {
     "end_time": "2024-04-15T12:33:21.119203Z",
     "start_time": "2024-04-15T12:33:21.114195Z"
    }
   },
   "id": "8d6216cc4b10fde6",
   "execution_count": 166
  },
  {
   "cell_type": "code",
   "outputs": [],
   "source": [
    "## Categorize the data\n",
    "\n"
   ],
   "metadata": {
    "collapsed": false,
    "ExecuteTime": {
     "end_time": "2024-04-15T12:33:21.122861Z",
     "start_time": "2024-04-15T12:33:21.120216Z"
    }
   },
   "id": "9f64a596f391fcb4",
   "execution_count": 167
  },
  {
   "cell_type": "code",
   "outputs": [
    {
     "data": {
      "text/plain": "       PassengerId    Survived      Pclass         Age        Fare\ncount   891.000000  891.000000  891.000000  714.000000  891.000000\nmean    446.000000    0.383838    2.308642   29.699118   32.204208\nstd     257.353842    0.486592    0.836071   14.526497   49.693429\nmin       1.000000    0.000000    1.000000    0.420000    0.000000\n25%     223.500000    0.000000    2.000000   20.125000    7.910400\n50%     446.000000    0.000000    3.000000   28.000000   14.454200\n75%     668.500000    1.000000    3.000000   38.000000   31.000000\nmax     891.000000    1.000000    3.000000   80.000000  512.329200",
      "text/html": "<div>\n<style scoped>\n    .dataframe tbody tr th:only-of-type {\n        vertical-align: middle;\n    }\n\n    .dataframe tbody tr th {\n        vertical-align: top;\n    }\n\n    .dataframe thead th {\n        text-align: right;\n    }\n</style>\n<table border=\"1\" class=\"dataframe\">\n  <thead>\n    <tr style=\"text-align: right;\">\n      <th></th>\n      <th>PassengerId</th>\n      <th>Survived</th>\n      <th>Pclass</th>\n      <th>Age</th>\n      <th>Fare</th>\n    </tr>\n  </thead>\n  <tbody>\n    <tr>\n      <th>count</th>\n      <td>891.000000</td>\n      <td>891.000000</td>\n      <td>891.000000</td>\n      <td>714.000000</td>\n      <td>891.000000</td>\n    </tr>\n    <tr>\n      <th>mean</th>\n      <td>446.000000</td>\n      <td>0.383838</td>\n      <td>2.308642</td>\n      <td>29.699118</td>\n      <td>32.204208</td>\n    </tr>\n    <tr>\n      <th>std</th>\n      <td>257.353842</td>\n      <td>0.486592</td>\n      <td>0.836071</td>\n      <td>14.526497</td>\n      <td>49.693429</td>\n    </tr>\n    <tr>\n      <th>min</th>\n      <td>1.000000</td>\n      <td>0.000000</td>\n      <td>1.000000</td>\n      <td>0.420000</td>\n      <td>0.000000</td>\n    </tr>\n    <tr>\n      <th>25%</th>\n      <td>223.500000</td>\n      <td>0.000000</td>\n      <td>2.000000</td>\n      <td>20.125000</td>\n      <td>7.910400</td>\n    </tr>\n    <tr>\n      <th>50%</th>\n      <td>446.000000</td>\n      <td>0.000000</td>\n      <td>3.000000</td>\n      <td>28.000000</td>\n      <td>14.454200</td>\n    </tr>\n    <tr>\n      <th>75%</th>\n      <td>668.500000</td>\n      <td>1.000000</td>\n      <td>3.000000</td>\n      <td>38.000000</td>\n      <td>31.000000</td>\n    </tr>\n    <tr>\n      <th>max</th>\n      <td>891.000000</td>\n      <td>1.000000</td>\n      <td>3.000000</td>\n      <td>80.000000</td>\n      <td>512.329200</td>\n    </tr>\n  </tbody>\n</table>\n</div>"
     },
     "execution_count": 168,
     "metadata": {},
     "output_type": "execute_result"
    }
   ],
   "source": [
    "train_df.describe()"
   ],
   "metadata": {
    "collapsed": false,
    "ExecuteTime": {
     "end_time": "2024-04-15T12:33:21.144948Z",
     "start_time": "2024-04-15T12:33:21.126871Z"
    }
   },
   "id": "efce41288b5f7ca3",
   "execution_count": 168
  },
  {
   "cell_type": "code",
   "outputs": [
    {
     "data": {
      "text/plain": "<Figure size 2000x600 with 1 Axes>",
      "image/png": "[encoded data removed]"
     },
     "metadata": {},
     "output_type": "display_data"
    }
   ],
   "source": [
    "## SHow missing values\n",
    "\n",
    "show_missing_values(train_df)"
   ],
   "metadata": {
    "collapsed": false,
    "ExecuteTime": {
     "end_time": "2024-04-15T12:33:21.418356Z",
     "start_time": "2024-04-15T12:33:21.165074Z"
    }
   },
   "id": "a08047ff6566ac58",
   "execution_count": 169
  },
  {
   "cell_type": "code",
   "outputs": [],
   "source": [
    "### I will impute data using MICE\n",
    "\n",
    "def fill_missing_data_with_mice_imputer(df: pd.DataFrame):\n",
    "        mice_imputer_df = df.copy()\n",
    "\n",
    "        mice_imputer = IterativeImputer(estimator=linear_model.BayesianRidge(), n_nearest_features=None,\n",
    "                                        imputation_order='ascending')\n",
    "\n",
    "        df_mice_imputed = pd.DataFrame(mice_imputer.fit_transform(mice_imputer_df), columns=mice_imputer_df.columns)\n",
    "\n",
    "        return df_mice_imputed"
   ],
   "metadata": {
    "collapsed": false,
    "ExecuteTime": {
     "end_time": "2024-04-15T12:33:21.423510Z",
     "start_time": "2024-04-15T12:33:21.419360Z"
    }
   },
   "id": "730427ba28bd4e6a",
   "execution_count": 170
  },
  {
   "cell_type": "code",
   "outputs": [],
   "source": [
    "train_df = fill_missing_data_with_mice_imputer(train_df)"
   ],
   "metadata": {
    "collapsed": false,
    "ExecuteTime": {
     "end_time": "2024-04-15T12:33:21.456153Z",
     "start_time": "2024-04-15T12:33:21.424518Z"
    }
   },
   "id": "371bb5c3000f07db",
   "execution_count": 171
  },
  {
   "cell_type": "code",
   "outputs": [
    {
     "data": {
      "text/plain": "<Figure size 2000x600 with 1 Axes>",
      "image/png": "[encoded data removed]"
     },
     "metadata": {},
     "output_type": "display_data"
    }
   ],
   "source": [
    "show_missing_values(train_df)"
   ],
   "metadata": {
    "collapsed": false,
    "ExecuteTime": {
     "end_time": "2024-04-15T12:33:21.665459Z",
     "start_time": "2024-04-15T12:33:21.457158Z"
    }
   },
   "id": "9fa1922a0037216d",
   "execution_count": 172
  },
  {
   "cell_type": "code",
   "outputs": [],
   "source": [
    "## Dataframe was successfully imputed\n"
   ],
   "metadata": {
    "collapsed": false,
    "ExecuteTime": {
     "end_time": "2024-04-15T12:33:21.670295Z",
     "start_time": "2024-04-15T12:33:21.666972Z"
    }
   },
   "id": "61baaf02d30c0f73",
   "execution_count": 173
  },
  {
   "cell_type": "code",
   "outputs": [],
   "source": [
    "test_df= fill_missing_data_with_mice_imputer(test_df)"
   ],
   "metadata": {
    "collapsed": false,
    "ExecuteTime": {
     "end_time": "2024-04-15T12:33:21.729095Z",
     "start_time": "2024-04-15T12:33:21.672301Z"
    }
   },
   "id": "8bcf6fc452ab0f69",
   "execution_count": 174
  },
  {
   "cell_type": "code",
   "outputs": [],
   "source": [
    "\n",
    "\n",
    "### Test model using Random Forest\n",
    "\n",
    "X_train = train_df.drop(['Survived'] , axis =1 )\n",
    "\n",
    "y_train = train_df['Survived']"
   ],
   "metadata": {
    "collapsed": false,
    "ExecuteTime": {
     "end_time": "2024-04-15T12:33:21.734361Z",
     "start_time": "2024-04-15T12:33:21.730102Z"
    }
   },
   "id": "5f185e977b91992",
   "execution_count": 175
  },
  {
   "cell_type": "code",
   "outputs": [],
   "source": [
    "X_train, X_test, y_train, y_test = train_test_split(X_train, y_train, test_size=0.2, random_state=42)\n",
    "\n"
   ],
   "metadata": {
    "collapsed": false,
    "ExecuteTime": {
     "end_time": "2024-04-15T12:33:21.742060Z",
     "start_time": "2024-04-15T12:33:21.735372Z"
    }
   },
   "id": "1bfc5eb70ccd5861",
   "execution_count": 176
  },
  {
   "cell_type": "code",
   "outputs": [],
   "source": [
    "\n",
    "\n",
    "\n",
    "model = RandomForestClassifier(n_estimators=100, max_depth=5, random_state=1)\n",
    "\n",
    "\n",
    "model.fit(X_train, y_train)\n",
    "\n",
    "y_pred = model.predict(X_test)\n",
    "\n",
    "\n"
   ],
   "metadata": {
    "collapsed": false,
    "ExecuteTime": {
     "end_time": "2024-04-15T12:33:21.883535Z",
     "start_time": "2024-04-15T12:33:21.744243Z"
    }
   },
   "id": "1bb7ba49ee6c9ec1",
   "execution_count": 177
  },
  {
   "cell_type": "code",
   "outputs": [],
   "source": [],
   "metadata": {
    "collapsed": false,
    "ExecuteTime": {
     "end_time": "2024-04-15T12:33:21.887053Z",
     "start_time": "2024-04-15T12:33:21.884546Z"
    }
   },
   "id": "671babc01b7fa2f2",
   "execution_count": 177
  },
  {
   "cell_type": "code",
   "outputs": [
    {
     "name": "stdout",
     "output_type": "stream",
     "text": [
      "Accuracy: 0.8268156424581006\n"
     ]
    }
   ],
   "source": [
    "accuracy = accuracy_score(y_test, y_pred)\n",
    "\n",
    "print(f'Accuracy: {accuracy}')\n"
   ],
   "metadata": {
    "collapsed": false,
    "ExecuteTime": {
     "end_time": "2024-04-15T12:33:21.892797Z",
     "start_time": "2024-04-15T12:33:21.888058Z"
    }
   },
   "id": "8f7f2714b8cf5dc2",
   "execution_count": 178
  },
  {
   "cell_type": "code",
   "outputs": [],
   "source": [],
   "metadata": {
    "collapsed": false,
    "ExecuteTime": {
     "end_time": "2024-04-15T12:33:21.896620Z",
     "start_time": "2024-04-15T12:33:21.893804Z"
    }
   },
   "id": "342bee5ce006abe9",
   "execution_count": 178
  },
  {
   "cell_type": "code",
   "outputs": [
    {
     "name": "stdout",
     "output_type": "stream",
     "text": [
      "<class 'pandas.core.frame.DataFrame'>\n",
      "RangeIndex: 418 entries, 0 to 417\n",
      "Data columns (total 2 columns):\n",
      " #   Column       Non-Null Count  Dtype\n",
      "---  ------       --------------  -----\n",
      " 0   PassengerId  418 non-null    int32\n",
      " 1   Survived     418 non-null    int32\n",
      "dtypes: int32(2)\n",
      "memory usage: 3.4 KB\n"
     ]
    }
   ],
   "source": [
    "### Save submissions\n",
    "\n",
    "submissions_df = pd.DataFrame({'PassengerId': test_df['PassengerId'], 'Survived': model.predict(test_df)})\n",
    "\n",
    "submissions_df['PassengerId']  = submissions_df['PassengerId'].astype('int32')\n",
    "\n",
    "submissions_df['Survived']  = submissions_df['Survived'].astype('int32')\n",
    "\n",
    "submissions_df.info()"
   ],
   "metadata": {
    "collapsed": false,
    "ExecuteTime": {
     "end_time": "2024-04-15T12:33:44.445165Z",
     "start_time": "2024-04-15T12:33:44.428177Z"
    }
   },
   "id": "6369ea2cb79dfd93",
   "execution_count": 181
  },
  {
   "cell_type": "code",
   "outputs": [],
   "source": [
    "submissions_df.to_csv('./submissions/submission_2.csv', index=False)"
   ],
   "metadata": {
    "collapsed": false,
    "ExecuteTime": {
     "end_time": "2024-04-15T12:33:45.247185Z",
     "start_time": "2024-04-15T12:33:45.241751Z"
    }
   },
   "id": "a078731a1426dd6f",
   "execution_count": 182
  },
  {
   "cell_type": "code",
   "outputs": [],
   "source": [],
   "metadata": {
    "collapsed": false,
    "ExecuteTime": {
     "end_time": "2024-04-15T12:33:21.926629Z",
     "start_time": "2024-04-15T12:33:21.924646Z"
    }
   },
   "id": "15f890c15c430791",
   "execution_count": 180
  }
 ],
 "metadata": {
  "kernelspec": {
   "display_name": "Python 3",
   "language": "python",
   "name": "python3"
  },
  "language_info": {
   "codemirror_mode": {
    "name": "ipython",
    "version": 2
   },
   "file_extension": ".py",
   "mimetype": "text/x-python",
   "name": "python",
   "nbconvert_exporter": "python",
   "pygments_lexer": "ipython2",
   "version": "2.7.6"
  }
 },
 "nbformat": 4,
 "nbformat_minor": 5
}
